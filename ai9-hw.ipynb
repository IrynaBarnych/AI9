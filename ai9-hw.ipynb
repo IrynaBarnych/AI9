{
 "cells": [
  {
   "cell_type": "code",
   "execution_count": 1,
   "id": "c756294f",
   "metadata": {
    "_cell_guid": "b1076dfc-b9ad-4769-8c92-a6c4dae69d19",
    "_uuid": "8f2839f25d086af736a60e9eeb907d3b93b6e0e5",
    "execution": {
     "iopub.execute_input": "2024-03-23T18:21:41.413200Z",
     "iopub.status.busy": "2024-03-23T18:21:41.411782Z",
     "iopub.status.idle": "2024-03-23T18:21:48.152837Z",
     "shell.execute_reply": "2024-03-23T18:21:48.151424Z"
    },
    "papermill": {
     "duration": 6.754561,
     "end_time": "2024-03-23T18:21:48.155932",
     "exception": false,
     "start_time": "2024-03-23T18:21:41.401371",
     "status": "completed"
    },
    "tags": []
   },
   "outputs": [
    {
     "data": {
      "text/html": [
       "<div>\n",
       "<style scoped>\n",
       "    .dataframe tbody tr th:only-of-type {\n",
       "        vertical-align: middle;\n",
       "    }\n",
       "\n",
       "    .dataframe tbody tr th {\n",
       "        vertical-align: top;\n",
       "    }\n",
       "\n",
       "    .dataframe thead th {\n",
       "        text-align: right;\n",
       "    }\n",
       "</style>\n",
       "<table border=\"1\" class=\"dataframe\">\n",
       "  <thead>\n",
       "    <tr style=\"text-align: right;\">\n",
       "      <th></th>\n",
       "      <th>time</th>\n",
       "      <th>radiant_roshankill</th>\n",
       "      <th>radiant_Δroshankill</th>\n",
       "      <th>dire_roshankill</th>\n",
       "      <th>dire_Δroshankill</th>\n",
       "      <th>good_tower1</th>\n",
       "      <th>good_tower2</th>\n",
       "      <th>good_tower3</th>\n",
       "      <th>good_melee</th>\n",
       "      <th>good_range</th>\n",
       "      <th>...</th>\n",
       "      <th>radiant_buyback</th>\n",
       "      <th>dire_buyback</th>\n",
       "      <th>radiant_Δrunes</th>\n",
       "      <th>dire_Δrunes</th>\n",
       "      <th>radiant_runes</th>\n",
       "      <th>dire_runes</th>\n",
       "      <th>radiant_aegis</th>\n",
       "      <th>dire_aegis</th>\n",
       "      <th>radiantΔaegis</th>\n",
       "      <th>direΔaegis</th>\n",
       "    </tr>\n",
       "  </thead>\n",
       "  <tbody>\n",
       "    <tr>\n",
       "      <th>0</th>\n",
       "      <td>0</td>\n",
       "      <td>0</td>\n",
       "      <td>0</td>\n",
       "      <td>0</td>\n",
       "      <td>0</td>\n",
       "      <td>3</td>\n",
       "      <td>3</td>\n",
       "      <td>3</td>\n",
       "      <td>3</td>\n",
       "      <td>3</td>\n",
       "      <td>...</td>\n",
       "      <td>0</td>\n",
       "      <td>0</td>\n",
       "      <td>1</td>\n",
       "      <td>1</td>\n",
       "      <td>1</td>\n",
       "      <td>1</td>\n",
       "      <td>0</td>\n",
       "      <td>0</td>\n",
       "      <td>0</td>\n",
       "      <td>0</td>\n",
       "    </tr>\n",
       "    <tr>\n",
       "      <th>1</th>\n",
       "      <td>60</td>\n",
       "      <td>0</td>\n",
       "      <td>0</td>\n",
       "      <td>0</td>\n",
       "      <td>0</td>\n",
       "      <td>3</td>\n",
       "      <td>3</td>\n",
       "      <td>3</td>\n",
       "      <td>3</td>\n",
       "      <td>3</td>\n",
       "      <td>...</td>\n",
       "      <td>0</td>\n",
       "      <td>0</td>\n",
       "      <td>1</td>\n",
       "      <td>1</td>\n",
       "      <td>2</td>\n",
       "      <td>2</td>\n",
       "      <td>0</td>\n",
       "      <td>0</td>\n",
       "      <td>0</td>\n",
       "      <td>0</td>\n",
       "    </tr>\n",
       "    <tr>\n",
       "      <th>2</th>\n",
       "      <td>120</td>\n",
       "      <td>0</td>\n",
       "      <td>0</td>\n",
       "      <td>0</td>\n",
       "      <td>0</td>\n",
       "      <td>3</td>\n",
       "      <td>3</td>\n",
       "      <td>3</td>\n",
       "      <td>3</td>\n",
       "      <td>3</td>\n",
       "      <td>...</td>\n",
       "      <td>0</td>\n",
       "      <td>0</td>\n",
       "      <td>0</td>\n",
       "      <td>0</td>\n",
       "      <td>2</td>\n",
       "      <td>2</td>\n",
       "      <td>0</td>\n",
       "      <td>0</td>\n",
       "      <td>0</td>\n",
       "      <td>0</td>\n",
       "    </tr>\n",
       "    <tr>\n",
       "      <th>3</th>\n",
       "      <td>180</td>\n",
       "      <td>0</td>\n",
       "      <td>0</td>\n",
       "      <td>0</td>\n",
       "      <td>0</td>\n",
       "      <td>3</td>\n",
       "      <td>3</td>\n",
       "      <td>3</td>\n",
       "      <td>3</td>\n",
       "      <td>3</td>\n",
       "      <td>...</td>\n",
       "      <td>0</td>\n",
       "      <td>0</td>\n",
       "      <td>0</td>\n",
       "      <td>0</td>\n",
       "      <td>2</td>\n",
       "      <td>2</td>\n",
       "      <td>0</td>\n",
       "      <td>0</td>\n",
       "      <td>0</td>\n",
       "      <td>0</td>\n",
       "    </tr>\n",
       "    <tr>\n",
       "      <th>4</th>\n",
       "      <td>240</td>\n",
       "      <td>0</td>\n",
       "      <td>0</td>\n",
       "      <td>0</td>\n",
       "      <td>0</td>\n",
       "      <td>3</td>\n",
       "      <td>3</td>\n",
       "      <td>3</td>\n",
       "      <td>3</td>\n",
       "      <td>3</td>\n",
       "      <td>...</td>\n",
       "      <td>0</td>\n",
       "      <td>0</td>\n",
       "      <td>0</td>\n",
       "      <td>0</td>\n",
       "      <td>2</td>\n",
       "      <td>2</td>\n",
       "      <td>0</td>\n",
       "      <td>0</td>\n",
       "      <td>0</td>\n",
       "      <td>0</td>\n",
       "    </tr>\n",
       "  </tbody>\n",
       "</table>\n",
       "<p>5 rows × 83 columns</p>\n",
       "</div>"
      ],
      "text/plain": [
       "   time  radiant_roshankill  radiant_Δroshankill  dire_roshankill  \\\n",
       "0     0                   0                    0                0   \n",
       "1    60                   0                    0                0   \n",
       "2   120                   0                    0                0   \n",
       "3   180                   0                    0                0   \n",
       "4   240                   0                    0                0   \n",
       "\n",
       "   dire_Δroshankill  good_tower1  good_tower2  good_tower3  good_melee  \\\n",
       "0                 0            3            3            3           3   \n",
       "1                 0            3            3            3           3   \n",
       "2                 0            3            3            3           3   \n",
       "3                 0            3            3            3           3   \n",
       "4                 0            3            3            3           3   \n",
       "\n",
       "   good_range  ...  radiant_buyback  dire_buyback  radiant_Δrunes  \\\n",
       "0           3  ...                0             0               1   \n",
       "1           3  ...                0             0               1   \n",
       "2           3  ...                0             0               0   \n",
       "3           3  ...                0             0               0   \n",
       "4           3  ...                0             0               0   \n",
       "\n",
       "   dire_Δrunes  radiant_runes  dire_runes  radiant_aegis  dire_aegis  \\\n",
       "0            1              1           1              0           0   \n",
       "1            1              2           2              0           0   \n",
       "2            0              2           2              0           0   \n",
       "3            0              2           2              0           0   \n",
       "4            0              2           2              0           0   \n",
       "\n",
       "   radiantΔaegis  direΔaegis  \n",
       "0              0           0  \n",
       "1              0           0  \n",
       "2              0           0  \n",
       "3              0           0  \n",
       "4              0           0  \n",
       "\n",
       "[5 rows x 83 columns]"
      ]
     },
     "execution_count": 1,
     "metadata": {},
     "output_type": "execute_result"
    }
   ],
   "source": [
    "import pandas as pd\n",
    "import numpy as np\n",
    "import matplotlib.pyplot as plt\n",
    "from sklearn import model_selection, metrics\n",
    "import lightgbm as lgb\n",
    "\n",
    "df = pd.read_csv(\"/kaggle/input/small-nice-data-dota2/small_nice_data.csv\",\n",
    "                 index_col=0)\n",
    "\n",
    "df.head()"
   ]
  },
  {
   "cell_type": "code",
   "execution_count": 2,
   "id": "468b364f",
   "metadata": {
    "execution": {
     "iopub.execute_input": "2024-03-23T18:21:48.172561Z",
     "iopub.status.busy": "2024-03-23T18:21:48.171579Z",
     "iopub.status.idle": "2024-03-23T18:21:48.195268Z",
     "shell.execute_reply": "2024-03-23T18:21:48.194379Z"
    },
    "papermill": {
     "duration": 0.034844,
     "end_time": "2024-03-23T18:21:48.197974",
     "exception": false,
     "start_time": "2024-03-23T18:21:48.163130",
     "status": "completed"
    },
    "tags": []
   },
   "outputs": [
    {
     "data": {
      "text/plain": [
       "count    164300.000000\n",
       "mean       1072.197079\n",
       "std         734.369752\n",
       "min           0.000000\n",
       "25%         480.000000\n",
       "50%        1020.000000\n",
       "75%        1560.000000\n",
       "max        5820.000000\n",
       "Name: time, dtype: float64"
      ]
     },
     "execution_count": 2,
     "metadata": {},
     "output_type": "execute_result"
    }
   ],
   "source": [
    "df['time'].describe()"
   ]
  },
  {
   "cell_type": "code",
   "execution_count": 3,
   "id": "30a9602b",
   "metadata": {
    "execution": {
     "iopub.execute_input": "2024-03-23T18:21:48.215448Z",
     "iopub.status.busy": "2024-03-23T18:21:48.214777Z",
     "iopub.status.idle": "2024-03-23T18:21:48.243639Z",
     "shell.execute_reply": "2024-03-23T18:21:48.242268Z"
    },
    "papermill": {
     "duration": 0.041753,
     "end_time": "2024-03-23T18:21:48.247314",
     "exception": false,
     "start_time": "2024-03-23T18:21:48.205561",
     "status": "completed"
    },
    "tags": []
   },
   "outputs": [],
   "source": [
    "y = df['time']\n",
    "X = df.drop(columns='time')"
   ]
  },
  {
   "cell_type": "code",
   "execution_count": 4,
   "id": "713acea9",
   "metadata": {
    "execution": {
     "iopub.execute_input": "2024-03-23T18:21:48.264979Z",
     "iopub.status.busy": "2024-03-23T18:21:48.264575Z",
     "iopub.status.idle": "2024-03-23T18:21:48.387010Z",
     "shell.execute_reply": "2024-03-23T18:21:48.385469Z"
    },
    "papermill": {
     "duration": 0.134989,
     "end_time": "2024-03-23T18:21:48.390161",
     "exception": false,
     "start_time": "2024-03-23T18:21:48.255172",
     "status": "completed"
    },
    "tags": []
   },
   "outputs": [],
   "source": [
    "from sklearn.model_selection import train_test_split\n",
    "\n",
    "X_train, X_test, y_train, y_test = train_test_split(X, y,\n",
    "                                                    train_size=0.8,\n",
    "                                                    random_state=42)"
   ]
  },
  {
   "cell_type": "code",
   "execution_count": 5,
   "id": "bd87b6aa",
   "metadata": {
    "execution": {
     "iopub.execute_input": "2024-03-23T18:21:48.406875Z",
     "iopub.status.busy": "2024-03-23T18:21:48.406441Z",
     "iopub.status.idle": "2024-03-23T18:21:48.587553Z",
     "shell.execute_reply": "2024-03-23T18:21:48.586104Z"
    },
    "papermill": {
     "duration": 0.192364,
     "end_time": "2024-03-23T18:21:48.590506",
     "exception": false,
     "start_time": "2024-03-23T18:21:48.398142",
     "status": "completed"
    },
    "tags": []
   },
   "outputs": [],
   "source": [
    "from sklearn.compose import ColumnTransformer\n",
    "from sklearn.pipeline import Pipeline\n",
    "from sklearn.impute import SimpleImputer\n",
    "from sklearn.preprocessing import OneHotEncoder"
   ]
  },
  {
   "cell_type": "code",
   "execution_count": 6,
   "id": "a93f30f6",
   "metadata": {
    "execution": {
     "iopub.execute_input": "2024-03-23T18:21:48.605967Z",
     "iopub.status.busy": "2024-03-23T18:21:48.605551Z",
     "iopub.status.idle": "2024-03-23T18:21:48.722949Z",
     "shell.execute_reply": "2024-03-23T18:21:48.721527Z"
    },
    "papermill": {
     "duration": 0.128743,
     "end_time": "2024-03-23T18:21:48.726063",
     "exception": false,
     "start_time": "2024-03-23T18:21:48.597320",
     "status": "completed"
    },
    "tags": []
   },
   "outputs": [
    {
     "data": {
      "text/html": [
       "<style>#sk-container-id-1 {color: black;background-color: white;}#sk-container-id-1 pre{padding: 0;}#sk-container-id-1 div.sk-toggleable {background-color: white;}#sk-container-id-1 label.sk-toggleable__label {cursor: pointer;display: block;width: 100%;margin-bottom: 0;padding: 0.3em;box-sizing: border-box;text-align: center;}#sk-container-id-1 label.sk-toggleable__label-arrow:before {content: \"▸\";float: left;margin-right: 0.25em;color: #696969;}#sk-container-id-1 label.sk-toggleable__label-arrow:hover:before {color: black;}#sk-container-id-1 div.sk-estimator:hover label.sk-toggleable__label-arrow:before {color: black;}#sk-container-id-1 div.sk-toggleable__content {max-height: 0;max-width: 0;overflow: hidden;text-align: left;background-color: #f0f8ff;}#sk-container-id-1 div.sk-toggleable__content pre {margin: 0.2em;color: black;border-radius: 0.25em;background-color: #f0f8ff;}#sk-container-id-1 input.sk-toggleable__control:checked~div.sk-toggleable__content {max-height: 200px;max-width: 100%;overflow: auto;}#sk-container-id-1 input.sk-toggleable__control:checked~label.sk-toggleable__label-arrow:before {content: \"▾\";}#sk-container-id-1 div.sk-estimator input.sk-toggleable__control:checked~label.sk-toggleable__label {background-color: #d4ebff;}#sk-container-id-1 div.sk-label input.sk-toggleable__control:checked~label.sk-toggleable__label {background-color: #d4ebff;}#sk-container-id-1 input.sk-hidden--visually {border: 0;clip: rect(1px 1px 1px 1px);clip: rect(1px, 1px, 1px, 1px);height: 1px;margin: -1px;overflow: hidden;padding: 0;position: absolute;width: 1px;}#sk-container-id-1 div.sk-estimator {font-family: monospace;background-color: #f0f8ff;border: 1px dotted black;border-radius: 0.25em;box-sizing: border-box;margin-bottom: 0.5em;}#sk-container-id-1 div.sk-estimator:hover {background-color: #d4ebff;}#sk-container-id-1 div.sk-parallel-item::after {content: \"\";width: 100%;border-bottom: 1px solid gray;flex-grow: 1;}#sk-container-id-1 div.sk-label:hover label.sk-toggleable__label {background-color: #d4ebff;}#sk-container-id-1 div.sk-serial::before {content: \"\";position: absolute;border-left: 1px solid gray;box-sizing: border-box;top: 0;bottom: 0;left: 50%;z-index: 0;}#sk-container-id-1 div.sk-serial {display: flex;flex-direction: column;align-items: center;background-color: white;padding-right: 0.2em;padding-left: 0.2em;position: relative;}#sk-container-id-1 div.sk-item {position: relative;z-index: 1;}#sk-container-id-1 div.sk-parallel {display: flex;align-items: stretch;justify-content: center;background-color: white;position: relative;}#sk-container-id-1 div.sk-item::before, #sk-container-id-1 div.sk-parallel-item::before {content: \"\";position: absolute;border-left: 1px solid gray;box-sizing: border-box;top: 0;bottom: 0;left: 50%;z-index: -1;}#sk-container-id-1 div.sk-parallel-item {display: flex;flex-direction: column;z-index: 1;position: relative;background-color: white;}#sk-container-id-1 div.sk-parallel-item:first-child::after {align-self: flex-end;width: 50%;}#sk-container-id-1 div.sk-parallel-item:last-child::after {align-self: flex-start;width: 50%;}#sk-container-id-1 div.sk-parallel-item:only-child::after {width: 0;}#sk-container-id-1 div.sk-dashed-wrapped {border: 1px dashed gray;margin: 0 0.4em 0.5em 0.4em;box-sizing: border-box;padding-bottom: 0.4em;background-color: white;}#sk-container-id-1 div.sk-label label {font-family: monospace;font-weight: bold;display: inline-block;line-height: 1.2em;}#sk-container-id-1 div.sk-label-container {text-align: center;}#sk-container-id-1 div.sk-container {/* jupyter's `normalize.less` sets `[hidden] { display: none; }` but bootstrap.min.css set `[hidden] { display: none !important; }` so we also need the `!important` here to be able to override the default hidden behavior on the sphinx rendered scikit-learn.org. See: https://github.com/scikit-learn/scikit-learn/issues/21755 */display: inline-block !important;position: relative;}#sk-container-id-1 div.sk-text-repr-fallback {display: none;}</style><div id=\"sk-container-id-1\" class=\"sk-top-container\"><div class=\"sk-text-repr-fallback\"><pre>ColumnTransformer(transformers=[(&#x27;num&#x27;,\n",
       "                                 Pipeline(steps=[(&#x27;imputer&#x27;,\n",
       "                                                  SimpleImputer(strategy=&#x27;median&#x27;))]),\n",
       "                                 Index([&#x27;radiant_roshankill&#x27;, &#x27;radiant_Δroshankill&#x27;, &#x27;dire_roshankill&#x27;,\n",
       "       &#x27;dire_Δroshankill&#x27;, &#x27;good_tower1&#x27;, &#x27;good_tower2&#x27;, &#x27;good_tower3&#x27;,\n",
       "       &#x27;good_melee&#x27;, &#x27;good_range&#x27;, &#x27;good_fort&#x27;, &#x27;bad_tower1&#x27;, &#x27;bad_tower2&#x27;,\n",
       "       &#x27;bad_tower3&#x27;, &#x27;bad_melee&#x27;, &#x27;bad_range&#x27;, &#x27;bad_fort&#x27;, &#x27;id&#x27;, &#x27;y...\n",
       "       &#x27;radiant_kills&#x27;, &#x27;dire_kills&#x27;, &#x27;radiant_Δbuyback&#x27;, &#x27;dire_Δbuyback&#x27;,\n",
       "       &#x27;radiant_buyback&#x27;, &#x27;dire_buyback&#x27;, &#x27;radiant_Δrunes&#x27;, &#x27;dire_Δrunes&#x27;,\n",
       "       &#x27;radiant_runes&#x27;, &#x27;dire_runes&#x27;, &#x27;radiant_aegis&#x27;, &#x27;dire_aegis&#x27;,\n",
       "       &#x27;radiantΔaegis&#x27;, &#x27;direΔaegis&#x27;],\n",
       "      dtype=&#x27;object&#x27;)),\n",
       "                                (&#x27;cat&#x27;,\n",
       "                                 Pipeline(steps=[(&#x27;imputer&#x27;,\n",
       "                                                  SimpleImputer(strategy=&#x27;most_frequent&#x27;)),\n",
       "                                                 (&#x27;encoder&#x27;,\n",
       "                                                  OneHotEncoder(sparse_output=False))]),\n",
       "                                 Index([], dtype=&#x27;object&#x27;))])</pre><b>In a Jupyter environment, please rerun this cell to show the HTML representation or trust the notebook. <br />On GitHub, the HTML representation is unable to render, please try loading this page with nbviewer.org.</b></div><div class=\"sk-container\" hidden><div class=\"sk-item sk-dashed-wrapped\"><div class=\"sk-label-container\"><div class=\"sk-label sk-toggleable\"><input class=\"sk-toggleable__control sk-hidden--visually\" id=\"sk-estimator-id-1\" type=\"checkbox\" ><label for=\"sk-estimator-id-1\" class=\"sk-toggleable__label sk-toggleable__label-arrow\">ColumnTransformer</label><div class=\"sk-toggleable__content\"><pre>ColumnTransformer(transformers=[(&#x27;num&#x27;,\n",
       "                                 Pipeline(steps=[(&#x27;imputer&#x27;,\n",
       "                                                  SimpleImputer(strategy=&#x27;median&#x27;))]),\n",
       "                                 Index([&#x27;radiant_roshankill&#x27;, &#x27;radiant_Δroshankill&#x27;, &#x27;dire_roshankill&#x27;,\n",
       "       &#x27;dire_Δroshankill&#x27;, &#x27;good_tower1&#x27;, &#x27;good_tower2&#x27;, &#x27;good_tower3&#x27;,\n",
       "       &#x27;good_melee&#x27;, &#x27;good_range&#x27;, &#x27;good_fort&#x27;, &#x27;bad_tower1&#x27;, &#x27;bad_tower2&#x27;,\n",
       "       &#x27;bad_tower3&#x27;, &#x27;bad_melee&#x27;, &#x27;bad_range&#x27;, &#x27;bad_fort&#x27;, &#x27;id&#x27;, &#x27;y...\n",
       "       &#x27;radiant_kills&#x27;, &#x27;dire_kills&#x27;, &#x27;radiant_Δbuyback&#x27;, &#x27;dire_Δbuyback&#x27;,\n",
       "       &#x27;radiant_buyback&#x27;, &#x27;dire_buyback&#x27;, &#x27;radiant_Δrunes&#x27;, &#x27;dire_Δrunes&#x27;,\n",
       "       &#x27;radiant_runes&#x27;, &#x27;dire_runes&#x27;, &#x27;radiant_aegis&#x27;, &#x27;dire_aegis&#x27;,\n",
       "       &#x27;radiantΔaegis&#x27;, &#x27;direΔaegis&#x27;],\n",
       "      dtype=&#x27;object&#x27;)),\n",
       "                                (&#x27;cat&#x27;,\n",
       "                                 Pipeline(steps=[(&#x27;imputer&#x27;,\n",
       "                                                  SimpleImputer(strategy=&#x27;most_frequent&#x27;)),\n",
       "                                                 (&#x27;encoder&#x27;,\n",
       "                                                  OneHotEncoder(sparse_output=False))]),\n",
       "                                 Index([], dtype=&#x27;object&#x27;))])</pre></div></div></div><div class=\"sk-parallel\"><div class=\"sk-parallel-item\"><div class=\"sk-item\"><div class=\"sk-label-container\"><div class=\"sk-label sk-toggleable\"><input class=\"sk-toggleable__control sk-hidden--visually\" id=\"sk-estimator-id-2\" type=\"checkbox\" ><label for=\"sk-estimator-id-2\" class=\"sk-toggleable__label sk-toggleable__label-arrow\">num</label><div class=\"sk-toggleable__content\"><pre>Index([&#x27;radiant_roshankill&#x27;, &#x27;radiant_Δroshankill&#x27;, &#x27;dire_roshankill&#x27;,\n",
       "       &#x27;dire_Δroshankill&#x27;, &#x27;good_tower1&#x27;, &#x27;good_tower2&#x27;, &#x27;good_tower3&#x27;,\n",
       "       &#x27;good_melee&#x27;, &#x27;good_range&#x27;, &#x27;good_fort&#x27;, &#x27;bad_tower1&#x27;, &#x27;bad_tower2&#x27;,\n",
       "       &#x27;bad_tower3&#x27;, &#x27;bad_melee&#x27;, &#x27;bad_range&#x27;, &#x27;bad_fort&#x27;, &#x27;id&#x27;, &#x27;y&#x27;,\n",
       "       &#x27;radiant_xp_t&#x27;, &#x27;dire_xp_t&#x27;, &#x27;radiant_Δxp_t&#x27;, &#x27;dire_Δxp_t&#x27;,\n",
       "       &#x27;radiant_gold_t&#x27;, &#x27;dire_gold_t&#x27;, &#x27;radiant_Δgold_t&#x27;, &#x27;dire_Δgold_t&#x27;,\n",
       "       &#x27;radiant_dn_t&#x27;, &#x27;dire_dn_t&#x27;, &#x27;radiant_Δdn_t&#x27;, &#x27;dire_Δdn_t&#x27;,\n",
       "       &#x27;radiant_lh_t&#x27;, &#x27;dire_lh_t&#x27;, &#x27;radiant_Δlh_t&#x27;, &#x27;dire_Δlh_t&#x27;,\n",
       "       &#x27;radiant_artifact_count&#x27;, &#x27;dire_artifact_count&#x27;, &#x27;radiant_common_count&#x27;,\n",
       "       &#x27;dire_common_count&#x27;, &#x27;radiant_component_count&#x27;, &#x27;dire_component_count&#x27;,\n",
       "       &#x27;radiant_consumable_count&#x27;, &#x27;dire_consumable_count&#x27;,\n",
       "       &#x27;radiant_epic_count&#x27;, &#x27;dire_epic_count&#x27;, &#x27;radiant_rare_count&#x27;,\n",
       "       &#x27;dire_rare_count&#x27;, &#x27;radiant_secret_shop_count&#x27;,\n",
       "       &#x27;dire_secret_shop_count&#x27;, &#x27;radiant_null_count&#x27;, &#x27;dire_null_count&#x27;,\n",
       "       &#x27;radiant_artifact_cost&#x27;, &#x27;dire_artifact_cost&#x27;, &#x27;radiant_common_cost&#x27;,\n",
       "       &#x27;dire_common_cost&#x27;, &#x27;radiant_component_cost&#x27;, &#x27;dire_component_cost&#x27;,\n",
       "       &#x27;radiant_consumable_cost&#x27;, &#x27;dire_consumable_cost&#x27;, &#x27;radiant_epic_cost&#x27;,\n",
       "       &#x27;dire_epic_cost&#x27;, &#x27;radiant_rare_cost&#x27;, &#x27;dire_rare_cost&#x27;,\n",
       "       &#x27;radiant_secret_shop_cost&#x27;, &#x27;dire_secret_shop_cost&#x27;,\n",
       "       &#x27;radiant_null_cost&#x27;, &#x27;dire_null_cost&#x27;, &#x27;radiant_Δkills&#x27;, &#x27;dire_Δkills&#x27;,\n",
       "       &#x27;radiant_kills&#x27;, &#x27;dire_kills&#x27;, &#x27;radiant_Δbuyback&#x27;, &#x27;dire_Δbuyback&#x27;,\n",
       "       &#x27;radiant_buyback&#x27;, &#x27;dire_buyback&#x27;, &#x27;radiant_Δrunes&#x27;, &#x27;dire_Δrunes&#x27;,\n",
       "       &#x27;radiant_runes&#x27;, &#x27;dire_runes&#x27;, &#x27;radiant_aegis&#x27;, &#x27;dire_aegis&#x27;,\n",
       "       &#x27;radiantΔaegis&#x27;, &#x27;direΔaegis&#x27;],\n",
       "      dtype=&#x27;object&#x27;)</pre></div></div></div><div class=\"sk-serial\"><div class=\"sk-item\"><div class=\"sk-serial\"><div class=\"sk-item\"><div class=\"sk-estimator sk-toggleable\"><input class=\"sk-toggleable__control sk-hidden--visually\" id=\"sk-estimator-id-3\" type=\"checkbox\" ><label for=\"sk-estimator-id-3\" class=\"sk-toggleable__label sk-toggleable__label-arrow\">SimpleImputer</label><div class=\"sk-toggleable__content\"><pre>SimpleImputer(strategy=&#x27;median&#x27;)</pre></div></div></div></div></div></div></div></div><div class=\"sk-parallel-item\"><div class=\"sk-item\"><div class=\"sk-label-container\"><div class=\"sk-label sk-toggleable\"><input class=\"sk-toggleable__control sk-hidden--visually\" id=\"sk-estimator-id-4\" type=\"checkbox\" ><label for=\"sk-estimator-id-4\" class=\"sk-toggleable__label sk-toggleable__label-arrow\">cat</label><div class=\"sk-toggleable__content\"><pre>Index([], dtype=&#x27;object&#x27;)</pre></div></div></div><div class=\"sk-serial\"><div class=\"sk-item\"><div class=\"sk-serial\"><div class=\"sk-item\"><div class=\"sk-estimator sk-toggleable\"><input class=\"sk-toggleable__control sk-hidden--visually\" id=\"sk-estimator-id-5\" type=\"checkbox\" ><label for=\"sk-estimator-id-5\" class=\"sk-toggleable__label sk-toggleable__label-arrow\">SimpleImputer</label><div class=\"sk-toggleable__content\"><pre>SimpleImputer(strategy=&#x27;most_frequent&#x27;)</pre></div></div></div><div class=\"sk-item\"><div class=\"sk-estimator sk-toggleable\"><input class=\"sk-toggleable__control sk-hidden--visually\" id=\"sk-estimator-id-6\" type=\"checkbox\" ><label for=\"sk-estimator-id-6\" class=\"sk-toggleable__label sk-toggleable__label-arrow\">OneHotEncoder</label><div class=\"sk-toggleable__content\"><pre>OneHotEncoder(sparse_output=False)</pre></div></div></div></div></div></div></div></div></div></div></div></div>"
      ],
      "text/plain": [
       "ColumnTransformer(transformers=[('num',\n",
       "                                 Pipeline(steps=[('imputer',\n",
       "                                                  SimpleImputer(strategy='median'))]),\n",
       "                                 Index(['radiant_roshankill', 'radiant_Δroshankill', 'dire_roshankill',\n",
       "       'dire_Δroshankill', 'good_tower1', 'good_tower2', 'good_tower3',\n",
       "       'good_melee', 'good_range', 'good_fort', 'bad_tower1', 'bad_tower2',\n",
       "       'bad_tower3', 'bad_melee', 'bad_range', 'bad_fort', 'id', 'y...\n",
       "       'radiant_kills', 'dire_kills', 'radiant_Δbuyback', 'dire_Δbuyback',\n",
       "       'radiant_buyback', 'dire_buyback', 'radiant_Δrunes', 'dire_Δrunes',\n",
       "       'radiant_runes', 'dire_runes', 'radiant_aegis', 'dire_aegis',\n",
       "       'radiantΔaegis', 'direΔaegis'],\n",
       "      dtype='object')),\n",
       "                                ('cat',\n",
       "                                 Pipeline(steps=[('imputer',\n",
       "                                                  SimpleImputer(strategy='most_frequent')),\n",
       "                                                 ('encoder',\n",
       "                                                  OneHotEncoder(sparse_output=False))]),\n",
       "                                 Index([], dtype='object'))])"
      ]
     },
     "execution_count": 6,
     "metadata": {},
     "output_type": "execute_result"
    }
   ],
   "source": [
    "num_columns = X.select_dtypes(include=\"number\").columns\n",
    "cat_columns = X.select_dtypes(include=\"object\").columns\n",
    "\n",
    "num_transformer = Pipeline(\n",
    "    steps=[(\"imputer\", SimpleImputer(strategy=\"median\"))]\n",
    "    )\n",
    "\n",
    "cat_transformer = Pipeline(\n",
    "    steps=[(\"imputer\", SimpleImputer(strategy=\"most_frequent\")),\n",
    "           (\"encoder\", OneHotEncoder(sparse_output=False))\n",
    "           ])  \n",
    "\n",
    "preprocessor = ColumnTransformer(\n",
    "    transformers=[\n",
    "        (\"num\", num_transformer, num_columns),\n",
    "        (\"cat\", cat_transformer, cat_columns),\n",
    "    ]\n",
    ")\n",
    "\n",
    "preprocessor.set_output(transform='pandas')\n",
    "preprocessor\n",
    "     "
   ]
  },
  {
   "cell_type": "code",
   "execution_count": 7,
   "id": "50cd33e5",
   "metadata": {
    "execution": {
     "iopub.execute_input": "2024-03-23T18:21:48.744902Z",
     "iopub.status.busy": "2024-03-23T18:21:48.744486Z",
     "iopub.status.idle": "2024-03-23T18:21:50.481774Z",
     "shell.execute_reply": "2024-03-23T18:21:50.480382Z"
    },
    "papermill": {
     "duration": 1.750466,
     "end_time": "2024-03-23T18:21:50.485042",
     "exception": false,
     "start_time": "2024-03-23T18:21:48.734576",
     "status": "completed"
    },
    "tags": []
   },
   "outputs": [],
   "source": [
    "X_train = preprocessor.fit_transform(X_train)\n",
    "X_test = preprocessor.transform(X_test)"
   ]
  },
  {
   "cell_type": "code",
   "execution_count": 8,
   "id": "6b27a727",
   "metadata": {
    "execution": {
     "iopub.execute_input": "2024-03-23T18:21:50.502986Z",
     "iopub.status.busy": "2024-03-23T18:21:50.502563Z",
     "iopub.status.idle": "2024-03-23T18:21:50.508097Z",
     "shell.execute_reply": "2024-03-23T18:21:50.506828Z"
    },
    "papermill": {
     "duration": 0.017612,
     "end_time": "2024-03-23T18:21:50.510494",
     "exception": false,
     "start_time": "2024-03-23T18:21:50.492882",
     "status": "completed"
    },
    "tags": []
   },
   "outputs": [],
   "source": [
    "model = lgb.LGBMRegressor(objective='mse',\n",
    "                          n_estimators = 10)"
   ]
  },
  {
   "cell_type": "code",
   "execution_count": 9,
   "id": "8faa4a5a",
   "metadata": {
    "execution": {
     "iopub.execute_input": "2024-03-23T18:21:50.527167Z",
     "iopub.status.busy": "2024-03-23T18:21:50.526808Z",
     "iopub.status.idle": "2024-03-23T18:21:52.583934Z",
     "shell.execute_reply": "2024-03-23T18:21:52.582633Z"
    },
    "papermill": {
     "duration": 2.06889,
     "end_time": "2024-03-23T18:21:52.587019",
     "exception": false,
     "start_time": "2024-03-23T18:21:50.518129",
     "status": "completed"
    },
    "tags": []
   },
   "outputs": [
    {
     "name": "stdout",
     "output_type": "stream",
     "text": [
      "[LightGBM] [Info] Auto-choosing row-wise multi-threading, the overhead of testing was 0.074117 seconds.\n",
      "You can set `force_row_wise=true` to remove the overhead.\n",
      "And if memory is not enough, you can set `force_col_wise=true`.\n",
      "[LightGBM] [Info] Total Bins 8357\n",
      "[LightGBM] [Info] Number of data points in the train set: 131440, number of used features: 82\n",
      "[LightGBM] [Info] Start training from score 1072.303256\n"
     ]
    },
    {
     "data": {
      "text/html": [
       "<style>#sk-container-id-2 {color: black;background-color: white;}#sk-container-id-2 pre{padding: 0;}#sk-container-id-2 div.sk-toggleable {background-color: white;}#sk-container-id-2 label.sk-toggleable__label {cursor: pointer;display: block;width: 100%;margin-bottom: 0;padding: 0.3em;box-sizing: border-box;text-align: center;}#sk-container-id-2 label.sk-toggleable__label-arrow:before {content: \"▸\";float: left;margin-right: 0.25em;color: #696969;}#sk-container-id-2 label.sk-toggleable__label-arrow:hover:before {color: black;}#sk-container-id-2 div.sk-estimator:hover label.sk-toggleable__label-arrow:before {color: black;}#sk-container-id-2 div.sk-toggleable__content {max-height: 0;max-width: 0;overflow: hidden;text-align: left;background-color: #f0f8ff;}#sk-container-id-2 div.sk-toggleable__content pre {margin: 0.2em;color: black;border-radius: 0.25em;background-color: #f0f8ff;}#sk-container-id-2 input.sk-toggleable__control:checked~div.sk-toggleable__content {max-height: 200px;max-width: 100%;overflow: auto;}#sk-container-id-2 input.sk-toggleable__control:checked~label.sk-toggleable__label-arrow:before {content: \"▾\";}#sk-container-id-2 div.sk-estimator input.sk-toggleable__control:checked~label.sk-toggleable__label {background-color: #d4ebff;}#sk-container-id-2 div.sk-label input.sk-toggleable__control:checked~label.sk-toggleable__label {background-color: #d4ebff;}#sk-container-id-2 input.sk-hidden--visually {border: 0;clip: rect(1px 1px 1px 1px);clip: rect(1px, 1px, 1px, 1px);height: 1px;margin: -1px;overflow: hidden;padding: 0;position: absolute;width: 1px;}#sk-container-id-2 div.sk-estimator {font-family: monospace;background-color: #f0f8ff;border: 1px dotted black;border-radius: 0.25em;box-sizing: border-box;margin-bottom: 0.5em;}#sk-container-id-2 div.sk-estimator:hover {background-color: #d4ebff;}#sk-container-id-2 div.sk-parallel-item::after {content: \"\";width: 100%;border-bottom: 1px solid gray;flex-grow: 1;}#sk-container-id-2 div.sk-label:hover label.sk-toggleable__label {background-color: #d4ebff;}#sk-container-id-2 div.sk-serial::before {content: \"\";position: absolute;border-left: 1px solid gray;box-sizing: border-box;top: 0;bottom: 0;left: 50%;z-index: 0;}#sk-container-id-2 div.sk-serial {display: flex;flex-direction: column;align-items: center;background-color: white;padding-right: 0.2em;padding-left: 0.2em;position: relative;}#sk-container-id-2 div.sk-item {position: relative;z-index: 1;}#sk-container-id-2 div.sk-parallel {display: flex;align-items: stretch;justify-content: center;background-color: white;position: relative;}#sk-container-id-2 div.sk-item::before, #sk-container-id-2 div.sk-parallel-item::before {content: \"\";position: absolute;border-left: 1px solid gray;box-sizing: border-box;top: 0;bottom: 0;left: 50%;z-index: -1;}#sk-container-id-2 div.sk-parallel-item {display: flex;flex-direction: column;z-index: 1;position: relative;background-color: white;}#sk-container-id-2 div.sk-parallel-item:first-child::after {align-self: flex-end;width: 50%;}#sk-container-id-2 div.sk-parallel-item:last-child::after {align-self: flex-start;width: 50%;}#sk-container-id-2 div.sk-parallel-item:only-child::after {width: 0;}#sk-container-id-2 div.sk-dashed-wrapped {border: 1px dashed gray;margin: 0 0.4em 0.5em 0.4em;box-sizing: border-box;padding-bottom: 0.4em;background-color: white;}#sk-container-id-2 div.sk-label label {font-family: monospace;font-weight: bold;display: inline-block;line-height: 1.2em;}#sk-container-id-2 div.sk-label-container {text-align: center;}#sk-container-id-2 div.sk-container {/* jupyter's `normalize.less` sets `[hidden] { display: none; }` but bootstrap.min.css set `[hidden] { display: none !important; }` so we also need the `!important` here to be able to override the default hidden behavior on the sphinx rendered scikit-learn.org. See: https://github.com/scikit-learn/scikit-learn/issues/21755 */display: inline-block !important;position: relative;}#sk-container-id-2 div.sk-text-repr-fallback {display: none;}</style><div id=\"sk-container-id-2\" class=\"sk-top-container\"><div class=\"sk-text-repr-fallback\"><pre>LGBMRegressor(n_estimators=10, objective=&#x27;mse&#x27;)</pre><b>In a Jupyter environment, please rerun this cell to show the HTML representation or trust the notebook. <br />On GitHub, the HTML representation is unable to render, please try loading this page with nbviewer.org.</b></div><div class=\"sk-container\" hidden><div class=\"sk-item\"><div class=\"sk-estimator sk-toggleable\"><input class=\"sk-toggleable__control sk-hidden--visually\" id=\"sk-estimator-id-7\" type=\"checkbox\" checked><label for=\"sk-estimator-id-7\" class=\"sk-toggleable__label sk-toggleable__label-arrow\">LGBMRegressor</label><div class=\"sk-toggleable__content\"><pre>LGBMRegressor(n_estimators=10, objective=&#x27;mse&#x27;)</pre></div></div></div></div></div>"
      ],
      "text/plain": [
       "LGBMRegressor(n_estimators=10, objective='mse')"
      ]
     },
     "execution_count": 9,
     "metadata": {},
     "output_type": "execute_result"
    }
   ],
   "source": [
    "model.fit(X_train, y_train,\n",
    "          eval_set=[(X_test, y_test), (X_train, y_train)],\n",
    "          eval_names = ['test', 'train'],\n",
    "          eval_metric='mae')"
   ]
  },
  {
   "cell_type": "code",
   "execution_count": 10,
   "id": "e543dfe4",
   "metadata": {
    "execution": {
     "iopub.execute_input": "2024-03-23T18:21:52.604659Z",
     "iopub.status.busy": "2024-03-23T18:21:52.604246Z",
     "iopub.status.idle": "2024-03-23T18:21:52.613067Z",
     "shell.execute_reply": "2024-03-23T18:21:52.611712Z"
    },
    "papermill": {
     "duration": 0.020775,
     "end_time": "2024-03-23T18:21:52.615604",
     "exception": false,
     "start_time": "2024-03-23T18:21:52.594829",
     "status": "completed"
    },
    "tags": []
   },
   "outputs": [],
   "source": [
    "from sklearn import metrics\n",
    "\n",
    "def get_metrics(y_true, y_pred, name=\"model\"):\n",
    "  df = pd.DataFrame()\n",
    "\n",
    "  df.loc[\"MAE\", name] = metrics.mean_absolute_error(y_true, y_pred)\n",
    "  df.loc[\"RMSE\", name] = metrics.mean_squared_error(y_true, y_pred) ** 0.5\n",
    "  df.loc[\"R2\", name] = metrics.r2_score(y_true, y_pred)\n",
    "\n",
    "  return df.round(2)"
   ]
  },
  {
   "cell_type": "code",
   "execution_count": 11,
   "id": "5e045e88",
   "metadata": {
    "execution": {
     "iopub.execute_input": "2024-03-23T18:21:52.632885Z",
     "iopub.status.busy": "2024-03-23T18:21:52.632442Z",
     "iopub.status.idle": "2024-03-23T18:21:52.902400Z",
     "shell.execute_reply": "2024-03-23T18:21:52.900997Z"
    },
    "papermill": {
     "duration": 0.281711,
     "end_time": "2024-03-23T18:21:52.905095",
     "exception": false,
     "start_time": "2024-03-23T18:21:52.623384",
     "status": "completed"
    },
    "tags": []
   },
   "outputs": [
    {
     "data": {
      "text/html": [
       "<div>\n",
       "<style scoped>\n",
       "    .dataframe tbody tr th:only-of-type {\n",
       "        vertical-align: middle;\n",
       "    }\n",
       "\n",
       "    .dataframe tbody tr th {\n",
       "        vertical-align: top;\n",
       "    }\n",
       "\n",
       "    .dataframe thead th {\n",
       "        text-align: right;\n",
       "    }\n",
       "</style>\n",
       "<table border=\"1\" class=\"dataframe\">\n",
       "  <thead>\n",
       "    <tr style=\"text-align: right;\">\n",
       "      <th></th>\n",
       "      <th>train</th>\n",
       "      <th>test</th>\n",
       "    </tr>\n",
       "  </thead>\n",
       "  <tbody>\n",
       "    <tr>\n",
       "      <th>MAE</th>\n",
       "      <td>213.30</td>\n",
       "      <td>211.93</td>\n",
       "    </tr>\n",
       "    <tr>\n",
       "      <th>RMSE</th>\n",
       "      <td>265.86</td>\n",
       "      <td>263.93</td>\n",
       "    </tr>\n",
       "    <tr>\n",
       "      <th>R2</th>\n",
       "      <td>0.87</td>\n",
       "      <td>0.87</td>\n",
       "    </tr>\n",
       "  </tbody>\n",
       "</table>\n",
       "</div>"
      ],
      "text/plain": [
       "       train    test\n",
       "MAE   213.30  211.93\n",
       "RMSE  265.86  263.93\n",
       "R2      0.87    0.87"
      ]
     },
     "execution_count": 11,
     "metadata": {},
     "output_type": "execute_result"
    }
   ],
   "source": [
    "all_metrics = pd.DataFrame()\n",
    "\n",
    "all_metrics[\"train\"] = get_metrics(y_train, model.predict(X_train))\n",
    "all_metrics[\"test\"] = get_metrics(y_test, model.predict(X_test))\n",
    "\n",
    "all_metrics"
   ]
  },
  {
   "cell_type": "code",
   "execution_count": 12,
   "id": "554a4605",
   "metadata": {
    "execution": {
     "iopub.execute_input": "2024-03-23T18:21:52.922844Z",
     "iopub.status.busy": "2024-03-23T18:21:52.922439Z",
     "iopub.status.idle": "2024-03-23T18:21:53.467371Z",
     "shell.execute_reply": "2024-03-23T18:21:53.465783Z"
    },
    "papermill": {
     "duration": 0.558057,
     "end_time": "2024-03-23T18:21:53.470999",
     "exception": false,
     "start_time": "2024-03-23T18:21:52.912942",
     "status": "completed"
    },
    "tags": []
   },
   "outputs": [
    {
     "data": {
      "text/plain": [
       "<Axes: title={'center': 'Feature importance'}, xlabel='Feature importance', ylabel='Features'>"
      ]
     },
     "execution_count": 12,
     "metadata": {},
     "output_type": "execute_result"
    },
    {
     "data": {
      "image/png": "[encoded data removed]",
      "text/plain": [
       "<Figure size 640x480 with 1 Axes>"
      ]
     },
     "metadata": {},
     "output_type": "display_data"
    }
   ],
   "source": [
    "lgb.plot_importance(model, max_num_features=20)"
   ]
  },
  {
   "cell_type": "code",
   "execution_count": 13,
   "id": "d8ffaa09",
   "metadata": {
    "execution": {
     "iopub.execute_input": "2024-03-23T18:21:53.493152Z",
     "iopub.status.busy": "2024-03-23T18:21:53.492759Z",
     "iopub.status.idle": "2024-03-23T18:21:53.842710Z",
     "shell.execute_reply": "2024-03-23T18:21:53.841452Z"
    },
    "papermill": {
     "duration": 0.363792,
     "end_time": "2024-03-23T18:21:53.845137",
     "exception": false,
     "start_time": "2024-03-23T18:21:53.481345",
     "status": "completed"
    },
    "tags": []
   },
   "outputs": [
    {
     "data": {
      "text/plain": [
       "<Axes: title={'center': 'Metric during training'}, xlabel='Iterations', ylabel='l1'>"
      ]
     },
     "execution_count": 13,
     "metadata": {},
     "output_type": "execute_result"
    },
    {
     "data": {
      "image/png": "[encoded data removed]",
      "text/plain": [
       "<Figure size 640x480 with 1 Axes>"
      ]
     },
     "metadata": {},
     "output_type": "display_data"
    }
   ],
   "source": [
    "lgb.plot_metric(model,\n",
    "                metric='l1')"
   ]
  },
  {
   "cell_type": "code",
   "execution_count": 14,
   "id": "3e1dd4c0",
   "metadata": {
    "execution": {
     "iopub.execute_input": "2024-03-23T18:21:53.867925Z",
     "iopub.status.busy": "2024-03-23T18:21:53.867499Z",
     "iopub.status.idle": "2024-03-23T18:21:53.991294Z",
     "shell.execute_reply": "2024-03-23T18:21:53.989829Z"
    },
    "papermill": {
     "duration": 0.13933,
     "end_time": "2024-03-23T18:21:53.994637",
     "exception": false,
     "start_time": "2024-03-23T18:21:53.855307",
     "status": "completed"
    },
    "tags": []
   },
   "outputs": [
    {
     "data": {
      "text/html": [
       "<style>#sk-container-id-3 {color: black;background-color: white;}#sk-container-id-3 pre{padding: 0;}#sk-container-id-3 div.sk-toggleable {background-color: white;}#sk-container-id-3 label.sk-toggleable__label {cursor: pointer;display: block;width: 100%;margin-bottom: 0;padding: 0.3em;box-sizing: border-box;text-align: center;}#sk-container-id-3 label.sk-toggleable__label-arrow:before {content: \"▸\";float: left;margin-right: 0.25em;color: #696969;}#sk-container-id-3 label.sk-toggleable__label-arrow:hover:before {color: black;}#sk-container-id-3 div.sk-estimator:hover label.sk-toggleable__label-arrow:before {color: black;}#sk-container-id-3 div.sk-toggleable__content {max-height: 0;max-width: 0;overflow: hidden;text-align: left;background-color: #f0f8ff;}#sk-container-id-3 div.sk-toggleable__content pre {margin: 0.2em;color: black;border-radius: 0.25em;background-color: #f0f8ff;}#sk-container-id-3 input.sk-toggleable__control:checked~div.sk-toggleable__content {max-height: 200px;max-width: 100%;overflow: auto;}#sk-container-id-3 input.sk-toggleable__control:checked~label.sk-toggleable__label-arrow:before {content: \"▾\";}#sk-container-id-3 div.sk-estimator input.sk-toggleable__control:checked~label.sk-toggleable__label {background-color: #d4ebff;}#sk-container-id-3 div.sk-label input.sk-toggleable__control:checked~label.sk-toggleable__label {background-color: #d4ebff;}#sk-container-id-3 input.sk-hidden--visually {border: 0;clip: rect(1px 1px 1px 1px);clip: rect(1px, 1px, 1px, 1px);height: 1px;margin: -1px;overflow: hidden;padding: 0;position: absolute;width: 1px;}#sk-container-id-3 div.sk-estimator {font-family: monospace;background-color: #f0f8ff;border: 1px dotted black;border-radius: 0.25em;box-sizing: border-box;margin-bottom: 0.5em;}#sk-container-id-3 div.sk-estimator:hover {background-color: #d4ebff;}#sk-container-id-3 div.sk-parallel-item::after {content: \"\";width: 100%;border-bottom: 1px solid gray;flex-grow: 1;}#sk-container-id-3 div.sk-label:hover label.sk-toggleable__label {background-color: #d4ebff;}#sk-container-id-3 div.sk-serial::before {content: \"\";position: absolute;border-left: 1px solid gray;box-sizing: border-box;top: 0;bottom: 0;left: 50%;z-index: 0;}#sk-container-id-3 div.sk-serial {display: flex;flex-direction: column;align-items: center;background-color: white;padding-right: 0.2em;padding-left: 0.2em;position: relative;}#sk-container-id-3 div.sk-item {position: relative;z-index: 1;}#sk-container-id-3 div.sk-parallel {display: flex;align-items: stretch;justify-content: center;background-color: white;position: relative;}#sk-container-id-3 div.sk-item::before, #sk-container-id-3 div.sk-parallel-item::before {content: \"\";position: absolute;border-left: 1px solid gray;box-sizing: border-box;top: 0;bottom: 0;left: 50%;z-index: -1;}#sk-container-id-3 div.sk-parallel-item {display: flex;flex-direction: column;z-index: 1;position: relative;background-color: white;}#sk-container-id-3 div.sk-parallel-item:first-child::after {align-self: flex-end;width: 50%;}#sk-container-id-3 div.sk-parallel-item:last-child::after {align-self: flex-start;width: 50%;}#sk-container-id-3 div.sk-parallel-item:only-child::after {width: 0;}#sk-container-id-3 div.sk-dashed-wrapped {border: 1px dashed gray;margin: 0 0.4em 0.5em 0.4em;box-sizing: border-box;padding-bottom: 0.4em;background-color: white;}#sk-container-id-3 div.sk-label label {font-family: monospace;font-weight: bold;display: inline-block;line-height: 1.2em;}#sk-container-id-3 div.sk-label-container {text-align: center;}#sk-container-id-3 div.sk-container {/* jupyter's `normalize.less` sets `[hidden] { display: none; }` but bootstrap.min.css set `[hidden] { display: none !important; }` so we also need the `!important` here to be able to override the default hidden behavior on the sphinx rendered scikit-learn.org. See: https://github.com/scikit-learn/scikit-learn/issues/21755 */display: inline-block !important;position: relative;}#sk-container-id-3 div.sk-text-repr-fallback {display: none;}</style><div id=\"sk-container-id-3\" class=\"sk-top-container\"><div class=\"sk-text-repr-fallback\"><pre>Pipeline(steps=[(&#x27;prep&#x27;,\n",
       "                 ColumnTransformer(transformers=[(&#x27;num&#x27;,\n",
       "                                                  Pipeline(steps=[(&#x27;imputer&#x27;,\n",
       "                                                                   SimpleImputer(strategy=&#x27;median&#x27;))]),\n",
       "                                                  Index([&#x27;radiant_roshankill&#x27;, &#x27;radiant_Δroshankill&#x27;, &#x27;dire_roshankill&#x27;,\n",
       "       &#x27;dire_Δroshankill&#x27;, &#x27;good_tower1&#x27;, &#x27;good_tower2&#x27;, &#x27;good_tower3&#x27;,\n",
       "       &#x27;good_melee&#x27;, &#x27;good_range&#x27;, &#x27;good_fort&#x27;, &#x27;bad_tower1&#x27;, &#x27;bad_tower2&#x27;,\n",
       "       &#x27;bad_tower3&#x27;, &#x27;bad_melee&#x27;, &#x27;bad_r...\n",
       "       &#x27;radiant_buyback&#x27;, &#x27;dire_buyback&#x27;, &#x27;radiant_Δrunes&#x27;, &#x27;dire_Δrunes&#x27;,\n",
       "       &#x27;radiant_runes&#x27;, &#x27;dire_runes&#x27;, &#x27;radiant_aegis&#x27;, &#x27;dire_aegis&#x27;,\n",
       "       &#x27;radiantΔaegis&#x27;, &#x27;direΔaegis&#x27;],\n",
       "      dtype=&#x27;object&#x27;)),\n",
       "                                                 (&#x27;cat&#x27;,\n",
       "                                                  Pipeline(steps=[(&#x27;imputer&#x27;,\n",
       "                                                                   SimpleImputer(strategy=&#x27;most_frequent&#x27;)),\n",
       "                                                                  (&#x27;encoder&#x27;,\n",
       "                                                                   OneHotEncoder(sparse_output=False))]),\n",
       "                                                  Index([], dtype=&#x27;object&#x27;))])),\n",
       "                (&#x27;model&#x27;, LGBMRegressor(n_estimators=10, objective=&#x27;mse&#x27;))])</pre><b>In a Jupyter environment, please rerun this cell to show the HTML representation or trust the notebook. <br />On GitHub, the HTML representation is unable to render, please try loading this page with nbviewer.org.</b></div><div class=\"sk-container\" hidden><div class=\"sk-item sk-dashed-wrapped\"><div class=\"sk-label-container\"><div class=\"sk-label sk-toggleable\"><input class=\"sk-toggleable__control sk-hidden--visually\" id=\"sk-estimator-id-8\" type=\"checkbox\" ><label for=\"sk-estimator-id-8\" class=\"sk-toggleable__label sk-toggleable__label-arrow\">Pipeline</label><div class=\"sk-toggleable__content\"><pre>Pipeline(steps=[(&#x27;prep&#x27;,\n",
       "                 ColumnTransformer(transformers=[(&#x27;num&#x27;,\n",
       "                                                  Pipeline(steps=[(&#x27;imputer&#x27;,\n",
       "                                                                   SimpleImputer(strategy=&#x27;median&#x27;))]),\n",
       "                                                  Index([&#x27;radiant_roshankill&#x27;, &#x27;radiant_Δroshankill&#x27;, &#x27;dire_roshankill&#x27;,\n",
       "       &#x27;dire_Δroshankill&#x27;, &#x27;good_tower1&#x27;, &#x27;good_tower2&#x27;, &#x27;good_tower3&#x27;,\n",
       "       &#x27;good_melee&#x27;, &#x27;good_range&#x27;, &#x27;good_fort&#x27;, &#x27;bad_tower1&#x27;, &#x27;bad_tower2&#x27;,\n",
       "       &#x27;bad_tower3&#x27;, &#x27;bad_melee&#x27;, &#x27;bad_r...\n",
       "       &#x27;radiant_buyback&#x27;, &#x27;dire_buyback&#x27;, &#x27;radiant_Δrunes&#x27;, &#x27;dire_Δrunes&#x27;,\n",
       "       &#x27;radiant_runes&#x27;, &#x27;dire_runes&#x27;, &#x27;radiant_aegis&#x27;, &#x27;dire_aegis&#x27;,\n",
       "       &#x27;radiantΔaegis&#x27;, &#x27;direΔaegis&#x27;],\n",
       "      dtype=&#x27;object&#x27;)),\n",
       "                                                 (&#x27;cat&#x27;,\n",
       "                                                  Pipeline(steps=[(&#x27;imputer&#x27;,\n",
       "                                                                   SimpleImputer(strategy=&#x27;most_frequent&#x27;)),\n",
       "                                                                  (&#x27;encoder&#x27;,\n",
       "                                                                   OneHotEncoder(sparse_output=False))]),\n",
       "                                                  Index([], dtype=&#x27;object&#x27;))])),\n",
       "                (&#x27;model&#x27;, LGBMRegressor(n_estimators=10, objective=&#x27;mse&#x27;))])</pre></div></div></div><div class=\"sk-serial\"><div class=\"sk-item sk-dashed-wrapped\"><div class=\"sk-label-container\"><div class=\"sk-label sk-toggleable\"><input class=\"sk-toggleable__control sk-hidden--visually\" id=\"sk-estimator-id-9\" type=\"checkbox\" ><label for=\"sk-estimator-id-9\" class=\"sk-toggleable__label sk-toggleable__label-arrow\">prep: ColumnTransformer</label><div class=\"sk-toggleable__content\"><pre>ColumnTransformer(transformers=[(&#x27;num&#x27;,\n",
       "                                 Pipeline(steps=[(&#x27;imputer&#x27;,\n",
       "                                                  SimpleImputer(strategy=&#x27;median&#x27;))]),\n",
       "                                 Index([&#x27;radiant_roshankill&#x27;, &#x27;radiant_Δroshankill&#x27;, &#x27;dire_roshankill&#x27;,\n",
       "       &#x27;dire_Δroshankill&#x27;, &#x27;good_tower1&#x27;, &#x27;good_tower2&#x27;, &#x27;good_tower3&#x27;,\n",
       "       &#x27;good_melee&#x27;, &#x27;good_range&#x27;, &#x27;good_fort&#x27;, &#x27;bad_tower1&#x27;, &#x27;bad_tower2&#x27;,\n",
       "       &#x27;bad_tower3&#x27;, &#x27;bad_melee&#x27;, &#x27;bad_range&#x27;, &#x27;bad_fort&#x27;, &#x27;id&#x27;, &#x27;y...\n",
       "       &#x27;radiant_kills&#x27;, &#x27;dire_kills&#x27;, &#x27;radiant_Δbuyback&#x27;, &#x27;dire_Δbuyback&#x27;,\n",
       "       &#x27;radiant_buyback&#x27;, &#x27;dire_buyback&#x27;, &#x27;radiant_Δrunes&#x27;, &#x27;dire_Δrunes&#x27;,\n",
       "       &#x27;radiant_runes&#x27;, &#x27;dire_runes&#x27;, &#x27;radiant_aegis&#x27;, &#x27;dire_aegis&#x27;,\n",
       "       &#x27;radiantΔaegis&#x27;, &#x27;direΔaegis&#x27;],\n",
       "      dtype=&#x27;object&#x27;)),\n",
       "                                (&#x27;cat&#x27;,\n",
       "                                 Pipeline(steps=[(&#x27;imputer&#x27;,\n",
       "                                                  SimpleImputer(strategy=&#x27;most_frequent&#x27;)),\n",
       "                                                 (&#x27;encoder&#x27;,\n",
       "                                                  OneHotEncoder(sparse_output=False))]),\n",
       "                                 Index([], dtype=&#x27;object&#x27;))])</pre></div></div></div><div class=\"sk-parallel\"><div class=\"sk-parallel-item\"><div class=\"sk-item\"><div class=\"sk-label-container\"><div class=\"sk-label sk-toggleable\"><input class=\"sk-toggleable__control sk-hidden--visually\" id=\"sk-estimator-id-10\" type=\"checkbox\" ><label for=\"sk-estimator-id-10\" class=\"sk-toggleable__label sk-toggleable__label-arrow\">num</label><div class=\"sk-toggleable__content\"><pre>Index([&#x27;radiant_roshankill&#x27;, &#x27;radiant_Δroshankill&#x27;, &#x27;dire_roshankill&#x27;,\n",
       "       &#x27;dire_Δroshankill&#x27;, &#x27;good_tower1&#x27;, &#x27;good_tower2&#x27;, &#x27;good_tower3&#x27;,\n",
       "       &#x27;good_melee&#x27;, &#x27;good_range&#x27;, &#x27;good_fort&#x27;, &#x27;bad_tower1&#x27;, &#x27;bad_tower2&#x27;,\n",
       "       &#x27;bad_tower3&#x27;, &#x27;bad_melee&#x27;, &#x27;bad_range&#x27;, &#x27;bad_fort&#x27;, &#x27;id&#x27;, &#x27;y&#x27;,\n",
       "       &#x27;radiant_xp_t&#x27;, &#x27;dire_xp_t&#x27;, &#x27;radiant_Δxp_t&#x27;, &#x27;dire_Δxp_t&#x27;,\n",
       "       &#x27;radiant_gold_t&#x27;, &#x27;dire_gold_t&#x27;, &#x27;radiant_Δgold_t&#x27;, &#x27;dire_Δgold_t&#x27;,\n",
       "       &#x27;radiant_dn_t&#x27;, &#x27;dire_dn_t&#x27;, &#x27;radiant_Δdn_t&#x27;, &#x27;dire_Δdn_t&#x27;,\n",
       "       &#x27;radiant_lh_t&#x27;, &#x27;dire_lh_t&#x27;, &#x27;radiant_Δlh_t&#x27;, &#x27;dire_Δlh_t&#x27;,\n",
       "       &#x27;radiant_artifact_count&#x27;, &#x27;dire_artifact_count&#x27;, &#x27;radiant_common_count&#x27;,\n",
       "       &#x27;dire_common_count&#x27;, &#x27;radiant_component_count&#x27;, &#x27;dire_component_count&#x27;,\n",
       "       &#x27;radiant_consumable_count&#x27;, &#x27;dire_consumable_count&#x27;,\n",
       "       &#x27;radiant_epic_count&#x27;, &#x27;dire_epic_count&#x27;, &#x27;radiant_rare_count&#x27;,\n",
       "       &#x27;dire_rare_count&#x27;, &#x27;radiant_secret_shop_count&#x27;,\n",
       "       &#x27;dire_secret_shop_count&#x27;, &#x27;radiant_null_count&#x27;, &#x27;dire_null_count&#x27;,\n",
       "       &#x27;radiant_artifact_cost&#x27;, &#x27;dire_artifact_cost&#x27;, &#x27;radiant_common_cost&#x27;,\n",
       "       &#x27;dire_common_cost&#x27;, &#x27;radiant_component_cost&#x27;, &#x27;dire_component_cost&#x27;,\n",
       "       &#x27;radiant_consumable_cost&#x27;, &#x27;dire_consumable_cost&#x27;, &#x27;radiant_epic_cost&#x27;,\n",
       "       &#x27;dire_epic_cost&#x27;, &#x27;radiant_rare_cost&#x27;, &#x27;dire_rare_cost&#x27;,\n",
       "       &#x27;radiant_secret_shop_cost&#x27;, &#x27;dire_secret_shop_cost&#x27;,\n",
       "       &#x27;radiant_null_cost&#x27;, &#x27;dire_null_cost&#x27;, &#x27;radiant_Δkills&#x27;, &#x27;dire_Δkills&#x27;,\n",
       "       &#x27;radiant_kills&#x27;, &#x27;dire_kills&#x27;, &#x27;radiant_Δbuyback&#x27;, &#x27;dire_Δbuyback&#x27;,\n",
       "       &#x27;radiant_buyback&#x27;, &#x27;dire_buyback&#x27;, &#x27;radiant_Δrunes&#x27;, &#x27;dire_Δrunes&#x27;,\n",
       "       &#x27;radiant_runes&#x27;, &#x27;dire_runes&#x27;, &#x27;radiant_aegis&#x27;, &#x27;dire_aegis&#x27;,\n",
       "       &#x27;radiantΔaegis&#x27;, &#x27;direΔaegis&#x27;],\n",
       "      dtype=&#x27;object&#x27;)</pre></div></div></div><div class=\"sk-serial\"><div class=\"sk-item\"><div class=\"sk-serial\"><div class=\"sk-item\"><div class=\"sk-estimator sk-toggleable\"><input class=\"sk-toggleable__control sk-hidden--visually\" id=\"sk-estimator-id-11\" type=\"checkbox\" ><label for=\"sk-estimator-id-11\" class=\"sk-toggleable__label sk-toggleable__label-arrow\">SimpleImputer</label><div class=\"sk-toggleable__content\"><pre>SimpleImputer(strategy=&#x27;median&#x27;)</pre></div></div></div></div></div></div></div></div><div class=\"sk-parallel-item\"><div class=\"sk-item\"><div class=\"sk-label-container\"><div class=\"sk-label sk-toggleable\"><input class=\"sk-toggleable__control sk-hidden--visually\" id=\"sk-estimator-id-12\" type=\"checkbox\" ><label for=\"sk-estimator-id-12\" class=\"sk-toggleable__label sk-toggleable__label-arrow\">cat</label><div class=\"sk-toggleable__content\"><pre>Index([], dtype=&#x27;object&#x27;)</pre></div></div></div><div class=\"sk-serial\"><div class=\"sk-item\"><div class=\"sk-serial\"><div class=\"sk-item\"><div class=\"sk-estimator sk-toggleable\"><input class=\"sk-toggleable__control sk-hidden--visually\" id=\"sk-estimator-id-13\" type=\"checkbox\" ><label for=\"sk-estimator-id-13\" class=\"sk-toggleable__label sk-toggleable__label-arrow\">SimpleImputer</label><div class=\"sk-toggleable__content\"><pre>SimpleImputer(strategy=&#x27;most_frequent&#x27;)</pre></div></div></div><div class=\"sk-item\"><div class=\"sk-estimator sk-toggleable\"><input class=\"sk-toggleable__control sk-hidden--visually\" id=\"sk-estimator-id-14\" type=\"checkbox\" ><label for=\"sk-estimator-id-14\" class=\"sk-toggleable__label sk-toggleable__label-arrow\">OneHotEncoder</label><div class=\"sk-toggleable__content\"><pre>OneHotEncoder(sparse_output=False)</pre></div></div></div></div></div></div></div></div></div></div><div class=\"sk-item\"><div class=\"sk-estimator sk-toggleable\"><input class=\"sk-toggleable__control sk-hidden--visually\" id=\"sk-estimator-id-15\" type=\"checkbox\" ><label for=\"sk-estimator-id-15\" class=\"sk-toggleable__label sk-toggleable__label-arrow\">LGBMRegressor</label><div class=\"sk-toggleable__content\"><pre>LGBMRegressor(n_estimators=10, objective=&#x27;mse&#x27;)</pre></div></div></div></div></div></div></div>"
      ],
      "text/plain": [
       "Pipeline(steps=[('prep',\n",
       "                 ColumnTransformer(transformers=[('num',\n",
       "                                                  Pipeline(steps=[('imputer',\n",
       "                                                                   SimpleImputer(strategy='median'))]),\n",
       "                                                  Index(['radiant_roshankill', 'radiant_Δroshankill', 'dire_roshankill',\n",
       "       'dire_Δroshankill', 'good_tower1', 'good_tower2', 'good_tower3',\n",
       "       'good_melee', 'good_range', 'good_fort', 'bad_tower1', 'bad_tower2',\n",
       "       'bad_tower3', 'bad_melee', 'bad_r...\n",
       "       'radiant_buyback', 'dire_buyback', 'radiant_Δrunes', 'dire_Δrunes',\n",
       "       'radiant_runes', 'dire_runes', 'radiant_aegis', 'dire_aegis',\n",
       "       'radiantΔaegis', 'direΔaegis'],\n",
       "      dtype='object')),\n",
       "                                                 ('cat',\n",
       "                                                  Pipeline(steps=[('imputer',\n",
       "                                                                   SimpleImputer(strategy='most_frequent')),\n",
       "                                                                  ('encoder',\n",
       "                                                                   OneHotEncoder(sparse_output=False))]),\n",
       "                                                  Index([], dtype='object'))])),\n",
       "                ('model', LGBMRegressor(n_estimators=10, objective='mse'))])"
      ]
     },
     "execution_count": 14,
     "metadata": {},
     "output_type": "execute_result"
    }
   ],
   "source": [
    "model = Pipeline(\n",
    "    [(\"prep\", preprocessor),\n",
    "     (\"model\", model)\n",
    "     ]\n",
    ")\n",
    "\n",
    "model"
   ]
  },
  {
   "cell_type": "code",
   "execution_count": 15,
   "id": "93d934f7",
   "metadata": {
    "execution": {
     "iopub.execute_input": "2024-03-23T18:21:54.022086Z",
     "iopub.status.busy": "2024-03-23T18:21:54.021693Z",
     "iopub.status.idle": "2024-03-23T18:21:54.038432Z",
     "shell.execute_reply": "2024-03-23T18:21:54.036859Z"
    },
    "papermill": {
     "duration": 0.032883,
     "end_time": "2024-03-23T18:21:54.041583",
     "exception": false,
     "start_time": "2024-03-23T18:21:54.008700",
     "status": "completed"
    },
    "tags": []
   },
   "outputs": [
    {
     "data": {
      "text/plain": [
       "['my_model.pkl']"
      ]
     },
     "execution_count": 15,
     "metadata": {},
     "output_type": "execute_result"
    }
   ],
   "source": [
    "import joblib\n",
    "joblib.dump(model, 'my_model.pkl')"
   ]
  },
  {
   "cell_type": "code",
   "execution_count": 16,
   "id": "9ba79747",
   "metadata": {
    "execution": {
     "iopub.execute_input": "2024-03-23T18:21:54.067043Z",
     "iopub.status.busy": "2024-03-23T18:21:54.066317Z",
     "iopub.status.idle": "2024-03-23T18:21:54.189239Z",
     "shell.execute_reply": "2024-03-23T18:21:54.187941Z"
    },
    "papermill": {
     "duration": 0.139155,
     "end_time": "2024-03-23T18:21:54.192442",
     "exception": false,
     "start_time": "2024-03-23T18:21:54.053287",
     "status": "completed"
    },
    "tags": []
   },
   "outputs": [
    {
     "data": {
      "text/html": [
       "<style>#sk-container-id-4 {color: black;background-color: white;}#sk-container-id-4 pre{padding: 0;}#sk-container-id-4 div.sk-toggleable {background-color: white;}#sk-container-id-4 label.sk-toggleable__label {cursor: pointer;display: block;width: 100%;margin-bottom: 0;padding: 0.3em;box-sizing: border-box;text-align: center;}#sk-container-id-4 label.sk-toggleable__label-arrow:before {content: \"▸\";float: left;margin-right: 0.25em;color: #696969;}#sk-container-id-4 label.sk-toggleable__label-arrow:hover:before {color: black;}#sk-container-id-4 div.sk-estimator:hover label.sk-toggleable__label-arrow:before {color: black;}#sk-container-id-4 div.sk-toggleable__content {max-height: 0;max-width: 0;overflow: hidden;text-align: left;background-color: #f0f8ff;}#sk-container-id-4 div.sk-toggleable__content pre {margin: 0.2em;color: black;border-radius: 0.25em;background-color: #f0f8ff;}#sk-container-id-4 input.sk-toggleable__control:checked~div.sk-toggleable__content {max-height: 200px;max-width: 100%;overflow: auto;}#sk-container-id-4 input.sk-toggleable__control:checked~label.sk-toggleable__label-arrow:before {content: \"▾\";}#sk-container-id-4 div.sk-estimator input.sk-toggleable__control:checked~label.sk-toggleable__label {background-color: #d4ebff;}#sk-container-id-4 div.sk-label input.sk-toggleable__control:checked~label.sk-toggleable__label {background-color: #d4ebff;}#sk-container-id-4 input.sk-hidden--visually {border: 0;clip: rect(1px 1px 1px 1px);clip: rect(1px, 1px, 1px, 1px);height: 1px;margin: -1px;overflow: hidden;padding: 0;position: absolute;width: 1px;}#sk-container-id-4 div.sk-estimator {font-family: monospace;background-color: #f0f8ff;border: 1px dotted black;border-radius: 0.25em;box-sizing: border-box;margin-bottom: 0.5em;}#sk-container-id-4 div.sk-estimator:hover {background-color: #d4ebff;}#sk-container-id-4 div.sk-parallel-item::after {content: \"\";width: 100%;border-bottom: 1px solid gray;flex-grow: 1;}#sk-container-id-4 div.sk-label:hover label.sk-toggleable__label {background-color: #d4ebff;}#sk-container-id-4 div.sk-serial::before {content: \"\";position: absolute;border-left: 1px solid gray;box-sizing: border-box;top: 0;bottom: 0;left: 50%;z-index: 0;}#sk-container-id-4 div.sk-serial {display: flex;flex-direction: column;align-items: center;background-color: white;padding-right: 0.2em;padding-left: 0.2em;position: relative;}#sk-container-id-4 div.sk-item {position: relative;z-index: 1;}#sk-container-id-4 div.sk-parallel {display: flex;align-items: stretch;justify-content: center;background-color: white;position: relative;}#sk-container-id-4 div.sk-item::before, #sk-container-id-4 div.sk-parallel-item::before {content: \"\";position: absolute;border-left: 1px solid gray;box-sizing: border-box;top: 0;bottom: 0;left: 50%;z-index: -1;}#sk-container-id-4 div.sk-parallel-item {display: flex;flex-direction: column;z-index: 1;position: relative;background-color: white;}#sk-container-id-4 div.sk-parallel-item:first-child::after {align-self: flex-end;width: 50%;}#sk-container-id-4 div.sk-parallel-item:last-child::after {align-self: flex-start;width: 50%;}#sk-container-id-4 div.sk-parallel-item:only-child::after {width: 0;}#sk-container-id-4 div.sk-dashed-wrapped {border: 1px dashed gray;margin: 0 0.4em 0.5em 0.4em;box-sizing: border-box;padding-bottom: 0.4em;background-color: white;}#sk-container-id-4 div.sk-label label {font-family: monospace;font-weight: bold;display: inline-block;line-height: 1.2em;}#sk-container-id-4 div.sk-label-container {text-align: center;}#sk-container-id-4 div.sk-container {/* jupyter's `normalize.less` sets `[hidden] { display: none; }` but bootstrap.min.css set `[hidden] { display: none !important; }` so we also need the `!important` here to be able to override the default hidden behavior on the sphinx rendered scikit-learn.org. See: https://github.com/scikit-learn/scikit-learn/issues/21755 */display: inline-block !important;position: relative;}#sk-container-id-4 div.sk-text-repr-fallback {display: none;}</style><div id=\"sk-container-id-4\" class=\"sk-top-container\"><div class=\"sk-text-repr-fallback\"><pre>Pipeline(steps=[(&#x27;prep&#x27;,\n",
       "                 ColumnTransformer(transformers=[(&#x27;num&#x27;,\n",
       "                                                  Pipeline(steps=[(&#x27;imputer&#x27;,\n",
       "                                                                   SimpleImputer(strategy=&#x27;median&#x27;))]),\n",
       "                                                  Index([&#x27;radiant_roshankill&#x27;, &#x27;radiant_Δroshankill&#x27;, &#x27;dire_roshankill&#x27;,\n",
       "       &#x27;dire_Δroshankill&#x27;, &#x27;good_tower1&#x27;, &#x27;good_tower2&#x27;, &#x27;good_tower3&#x27;,\n",
       "       &#x27;good_melee&#x27;, &#x27;good_range&#x27;, &#x27;good_fort&#x27;, &#x27;bad_tower1&#x27;, &#x27;bad_tower2&#x27;,\n",
       "       &#x27;bad_tower3&#x27;, &#x27;bad_melee&#x27;, &#x27;bad_r...\n",
       "       &#x27;radiant_buyback&#x27;, &#x27;dire_buyback&#x27;, &#x27;radiant_Δrunes&#x27;, &#x27;dire_Δrunes&#x27;,\n",
       "       &#x27;radiant_runes&#x27;, &#x27;dire_runes&#x27;, &#x27;radiant_aegis&#x27;, &#x27;dire_aegis&#x27;,\n",
       "       &#x27;radiantΔaegis&#x27;, &#x27;direΔaegis&#x27;],\n",
       "      dtype=&#x27;object&#x27;)),\n",
       "                                                 (&#x27;cat&#x27;,\n",
       "                                                  Pipeline(steps=[(&#x27;imputer&#x27;,\n",
       "                                                                   SimpleImputer(strategy=&#x27;most_frequent&#x27;)),\n",
       "                                                                  (&#x27;encoder&#x27;,\n",
       "                                                                   OneHotEncoder(sparse_output=False))]),\n",
       "                                                  Index([], dtype=&#x27;object&#x27;))])),\n",
       "                (&#x27;model&#x27;, LGBMRegressor(n_estimators=10, objective=&#x27;mse&#x27;))])</pre><b>In a Jupyter environment, please rerun this cell to show the HTML representation or trust the notebook. <br />On GitHub, the HTML representation is unable to render, please try loading this page with nbviewer.org.</b></div><div class=\"sk-container\" hidden><div class=\"sk-item sk-dashed-wrapped\"><div class=\"sk-label-container\"><div class=\"sk-label sk-toggleable\"><input class=\"sk-toggleable__control sk-hidden--visually\" id=\"sk-estimator-id-16\" type=\"checkbox\" ><label for=\"sk-estimator-id-16\" class=\"sk-toggleable__label sk-toggleable__label-arrow\">Pipeline</label><div class=\"sk-toggleable__content\"><pre>Pipeline(steps=[(&#x27;prep&#x27;,\n",
       "                 ColumnTransformer(transformers=[(&#x27;num&#x27;,\n",
       "                                                  Pipeline(steps=[(&#x27;imputer&#x27;,\n",
       "                                                                   SimpleImputer(strategy=&#x27;median&#x27;))]),\n",
       "                                                  Index([&#x27;radiant_roshankill&#x27;, &#x27;radiant_Δroshankill&#x27;, &#x27;dire_roshankill&#x27;,\n",
       "       &#x27;dire_Δroshankill&#x27;, &#x27;good_tower1&#x27;, &#x27;good_tower2&#x27;, &#x27;good_tower3&#x27;,\n",
       "       &#x27;good_melee&#x27;, &#x27;good_range&#x27;, &#x27;good_fort&#x27;, &#x27;bad_tower1&#x27;, &#x27;bad_tower2&#x27;,\n",
       "       &#x27;bad_tower3&#x27;, &#x27;bad_melee&#x27;, &#x27;bad_r...\n",
       "       &#x27;radiant_buyback&#x27;, &#x27;dire_buyback&#x27;, &#x27;radiant_Δrunes&#x27;, &#x27;dire_Δrunes&#x27;,\n",
       "       &#x27;radiant_runes&#x27;, &#x27;dire_runes&#x27;, &#x27;radiant_aegis&#x27;, &#x27;dire_aegis&#x27;,\n",
       "       &#x27;radiantΔaegis&#x27;, &#x27;direΔaegis&#x27;],\n",
       "      dtype=&#x27;object&#x27;)),\n",
       "                                                 (&#x27;cat&#x27;,\n",
       "                                                  Pipeline(steps=[(&#x27;imputer&#x27;,\n",
       "                                                                   SimpleImputer(strategy=&#x27;most_frequent&#x27;)),\n",
       "                                                                  (&#x27;encoder&#x27;,\n",
       "                                                                   OneHotEncoder(sparse_output=False))]),\n",
       "                                                  Index([], dtype=&#x27;object&#x27;))])),\n",
       "                (&#x27;model&#x27;, LGBMRegressor(n_estimators=10, objective=&#x27;mse&#x27;))])</pre></div></div></div><div class=\"sk-serial\"><div class=\"sk-item sk-dashed-wrapped\"><div class=\"sk-label-container\"><div class=\"sk-label sk-toggleable\"><input class=\"sk-toggleable__control sk-hidden--visually\" id=\"sk-estimator-id-17\" type=\"checkbox\" ><label for=\"sk-estimator-id-17\" class=\"sk-toggleable__label sk-toggleable__label-arrow\">prep: ColumnTransformer</label><div class=\"sk-toggleable__content\"><pre>ColumnTransformer(transformers=[(&#x27;num&#x27;,\n",
       "                                 Pipeline(steps=[(&#x27;imputer&#x27;,\n",
       "                                                  SimpleImputer(strategy=&#x27;median&#x27;))]),\n",
       "                                 Index([&#x27;radiant_roshankill&#x27;, &#x27;radiant_Δroshankill&#x27;, &#x27;dire_roshankill&#x27;,\n",
       "       &#x27;dire_Δroshankill&#x27;, &#x27;good_tower1&#x27;, &#x27;good_tower2&#x27;, &#x27;good_tower3&#x27;,\n",
       "       &#x27;good_melee&#x27;, &#x27;good_range&#x27;, &#x27;good_fort&#x27;, &#x27;bad_tower1&#x27;, &#x27;bad_tower2&#x27;,\n",
       "       &#x27;bad_tower3&#x27;, &#x27;bad_melee&#x27;, &#x27;bad_range&#x27;, &#x27;bad_fort&#x27;, &#x27;id&#x27;, &#x27;y...\n",
       "       &#x27;radiant_kills&#x27;, &#x27;dire_kills&#x27;, &#x27;radiant_Δbuyback&#x27;, &#x27;dire_Δbuyback&#x27;,\n",
       "       &#x27;radiant_buyback&#x27;, &#x27;dire_buyback&#x27;, &#x27;radiant_Δrunes&#x27;, &#x27;dire_Δrunes&#x27;,\n",
       "       &#x27;radiant_runes&#x27;, &#x27;dire_runes&#x27;, &#x27;radiant_aegis&#x27;, &#x27;dire_aegis&#x27;,\n",
       "       &#x27;radiantΔaegis&#x27;, &#x27;direΔaegis&#x27;],\n",
       "      dtype=&#x27;object&#x27;)),\n",
       "                                (&#x27;cat&#x27;,\n",
       "                                 Pipeline(steps=[(&#x27;imputer&#x27;,\n",
       "                                                  SimpleImputer(strategy=&#x27;most_frequent&#x27;)),\n",
       "                                                 (&#x27;encoder&#x27;,\n",
       "                                                  OneHotEncoder(sparse_output=False))]),\n",
       "                                 Index([], dtype=&#x27;object&#x27;))])</pre></div></div></div><div class=\"sk-parallel\"><div class=\"sk-parallel-item\"><div class=\"sk-item\"><div class=\"sk-label-container\"><div class=\"sk-label sk-toggleable\"><input class=\"sk-toggleable__control sk-hidden--visually\" id=\"sk-estimator-id-18\" type=\"checkbox\" ><label for=\"sk-estimator-id-18\" class=\"sk-toggleable__label sk-toggleable__label-arrow\">num</label><div class=\"sk-toggleable__content\"><pre>Index([&#x27;radiant_roshankill&#x27;, &#x27;radiant_Δroshankill&#x27;, &#x27;dire_roshankill&#x27;,\n",
       "       &#x27;dire_Δroshankill&#x27;, &#x27;good_tower1&#x27;, &#x27;good_tower2&#x27;, &#x27;good_tower3&#x27;,\n",
       "       &#x27;good_melee&#x27;, &#x27;good_range&#x27;, &#x27;good_fort&#x27;, &#x27;bad_tower1&#x27;, &#x27;bad_tower2&#x27;,\n",
       "       &#x27;bad_tower3&#x27;, &#x27;bad_melee&#x27;, &#x27;bad_range&#x27;, &#x27;bad_fort&#x27;, &#x27;id&#x27;, &#x27;y&#x27;,\n",
       "       &#x27;radiant_xp_t&#x27;, &#x27;dire_xp_t&#x27;, &#x27;radiant_Δxp_t&#x27;, &#x27;dire_Δxp_t&#x27;,\n",
       "       &#x27;radiant_gold_t&#x27;, &#x27;dire_gold_t&#x27;, &#x27;radiant_Δgold_t&#x27;, &#x27;dire_Δgold_t&#x27;,\n",
       "       &#x27;radiant_dn_t&#x27;, &#x27;dire_dn_t&#x27;, &#x27;radiant_Δdn_t&#x27;, &#x27;dire_Δdn_t&#x27;,\n",
       "       &#x27;radiant_lh_t&#x27;, &#x27;dire_lh_t&#x27;, &#x27;radiant_Δlh_t&#x27;, &#x27;dire_Δlh_t&#x27;,\n",
       "       &#x27;radiant_artifact_count&#x27;, &#x27;dire_artifact_count&#x27;, &#x27;radiant_common_count&#x27;,\n",
       "       &#x27;dire_common_count&#x27;, &#x27;radiant_component_count&#x27;, &#x27;dire_component_count&#x27;,\n",
       "       &#x27;radiant_consumable_count&#x27;, &#x27;dire_consumable_count&#x27;,\n",
       "       &#x27;radiant_epic_count&#x27;, &#x27;dire_epic_count&#x27;, &#x27;radiant_rare_count&#x27;,\n",
       "       &#x27;dire_rare_count&#x27;, &#x27;radiant_secret_shop_count&#x27;,\n",
       "       &#x27;dire_secret_shop_count&#x27;, &#x27;radiant_null_count&#x27;, &#x27;dire_null_count&#x27;,\n",
       "       &#x27;radiant_artifact_cost&#x27;, &#x27;dire_artifact_cost&#x27;, &#x27;radiant_common_cost&#x27;,\n",
       "       &#x27;dire_common_cost&#x27;, &#x27;radiant_component_cost&#x27;, &#x27;dire_component_cost&#x27;,\n",
       "       &#x27;radiant_consumable_cost&#x27;, &#x27;dire_consumable_cost&#x27;, &#x27;radiant_epic_cost&#x27;,\n",
       "       &#x27;dire_epic_cost&#x27;, &#x27;radiant_rare_cost&#x27;, &#x27;dire_rare_cost&#x27;,\n",
       "       &#x27;radiant_secret_shop_cost&#x27;, &#x27;dire_secret_shop_cost&#x27;,\n",
       "       &#x27;radiant_null_cost&#x27;, &#x27;dire_null_cost&#x27;, &#x27;radiant_Δkills&#x27;, &#x27;dire_Δkills&#x27;,\n",
       "       &#x27;radiant_kills&#x27;, &#x27;dire_kills&#x27;, &#x27;radiant_Δbuyback&#x27;, &#x27;dire_Δbuyback&#x27;,\n",
       "       &#x27;radiant_buyback&#x27;, &#x27;dire_buyback&#x27;, &#x27;radiant_Δrunes&#x27;, &#x27;dire_Δrunes&#x27;,\n",
       "       &#x27;radiant_runes&#x27;, &#x27;dire_runes&#x27;, &#x27;radiant_aegis&#x27;, &#x27;dire_aegis&#x27;,\n",
       "       &#x27;radiantΔaegis&#x27;, &#x27;direΔaegis&#x27;],\n",
       "      dtype=&#x27;object&#x27;)</pre></div></div></div><div class=\"sk-serial\"><div class=\"sk-item\"><div class=\"sk-serial\"><div class=\"sk-item\"><div class=\"sk-estimator sk-toggleable\"><input class=\"sk-toggleable__control sk-hidden--visually\" id=\"sk-estimator-id-19\" type=\"checkbox\" ><label for=\"sk-estimator-id-19\" class=\"sk-toggleable__label sk-toggleable__label-arrow\">SimpleImputer</label><div class=\"sk-toggleable__content\"><pre>SimpleImputer(strategy=&#x27;median&#x27;)</pre></div></div></div></div></div></div></div></div><div class=\"sk-parallel-item\"><div class=\"sk-item\"><div class=\"sk-label-container\"><div class=\"sk-label sk-toggleable\"><input class=\"sk-toggleable__control sk-hidden--visually\" id=\"sk-estimator-id-20\" type=\"checkbox\" ><label for=\"sk-estimator-id-20\" class=\"sk-toggleable__label sk-toggleable__label-arrow\">cat</label><div class=\"sk-toggleable__content\"><pre>Index([], dtype=&#x27;object&#x27;)</pre></div></div></div><div class=\"sk-serial\"><div class=\"sk-item\"><div class=\"sk-serial\"><div class=\"sk-item\"><div class=\"sk-estimator sk-toggleable\"><input class=\"sk-toggleable__control sk-hidden--visually\" id=\"sk-estimator-id-21\" type=\"checkbox\" ><label for=\"sk-estimator-id-21\" class=\"sk-toggleable__label sk-toggleable__label-arrow\">SimpleImputer</label><div class=\"sk-toggleable__content\"><pre>SimpleImputer(strategy=&#x27;most_frequent&#x27;)</pre></div></div></div><div class=\"sk-item\"><div class=\"sk-estimator sk-toggleable\"><input class=\"sk-toggleable__control sk-hidden--visually\" id=\"sk-estimator-id-22\" type=\"checkbox\" ><label for=\"sk-estimator-id-22\" class=\"sk-toggleable__label sk-toggleable__label-arrow\">OneHotEncoder</label><div class=\"sk-toggleable__content\"><pre>OneHotEncoder(sparse_output=False)</pre></div></div></div></div></div></div></div></div></div></div><div class=\"sk-item\"><div class=\"sk-estimator sk-toggleable\"><input class=\"sk-toggleable__control sk-hidden--visually\" id=\"sk-estimator-id-23\" type=\"checkbox\" ><label for=\"sk-estimator-id-23\" class=\"sk-toggleable__label sk-toggleable__label-arrow\">LGBMRegressor</label><div class=\"sk-toggleable__content\"><pre>LGBMRegressor(n_estimators=10, objective=&#x27;mse&#x27;)</pre></div></div></div></div></div></div></div>"
      ],
      "text/plain": [
       "Pipeline(steps=[('prep',\n",
       "                 ColumnTransformer(transformers=[('num',\n",
       "                                                  Pipeline(steps=[('imputer',\n",
       "                                                                   SimpleImputer(strategy='median'))]),\n",
       "                                                  Index(['radiant_roshankill', 'radiant_Δroshankill', 'dire_roshankill',\n",
       "       'dire_Δroshankill', 'good_tower1', 'good_tower2', 'good_tower3',\n",
       "       'good_melee', 'good_range', 'good_fort', 'bad_tower1', 'bad_tower2',\n",
       "       'bad_tower3', 'bad_melee', 'bad_r...\n",
       "       'radiant_buyback', 'dire_buyback', 'radiant_Δrunes', 'dire_Δrunes',\n",
       "       'radiant_runes', 'dire_runes', 'radiant_aegis', 'dire_aegis',\n",
       "       'radiantΔaegis', 'direΔaegis'],\n",
       "      dtype='object')),\n",
       "                                                 ('cat',\n",
       "                                                  Pipeline(steps=[('imputer',\n",
       "                                                                   SimpleImputer(strategy='most_frequent')),\n",
       "                                                                  ('encoder',\n",
       "                                                                   OneHotEncoder(sparse_output=False))]),\n",
       "                                                  Index([], dtype='object'))])),\n",
       "                ('model', LGBMRegressor(n_estimators=10, objective='mse'))])"
      ]
     },
     "execution_count": 16,
     "metadata": {},
     "output_type": "execute_result"
    }
   ],
   "source": [
    "load_model = joblib.load('my_model.pkl')\n",
    "load_model"
   ]
  },
  {
   "cell_type": "code",
   "execution_count": 17,
   "id": "69c7726e",
   "metadata": {
    "execution": {
     "iopub.execute_input": "2024-03-23T18:21:54.218765Z",
     "iopub.status.busy": "2024-03-23T18:21:54.218368Z",
     "iopub.status.idle": "2024-03-23T18:21:54.241020Z",
     "shell.execute_reply": "2024-03-23T18:21:54.240192Z"
    },
    "papermill": {
     "duration": 0.039259,
     "end_time": "2024-03-23T18:21:54.243615",
     "exception": false,
     "start_time": "2024-03-23T18:21:54.204356",
     "status": "completed"
    },
    "tags": []
   },
   "outputs": [
    {
     "data": {
      "text/html": [
       "<div>\n",
       "<style scoped>\n",
       "    .dataframe tbody tr th:only-of-type {\n",
       "        vertical-align: middle;\n",
       "    }\n",
       "\n",
       "    .dataframe tbody tr th {\n",
       "        vertical-align: top;\n",
       "    }\n",
       "\n",
       "    .dataframe thead th {\n",
       "        text-align: right;\n",
       "    }\n",
       "</style>\n",
       "<table border=\"1\" class=\"dataframe\">\n",
       "  <thead>\n",
       "    <tr style=\"text-align: right;\">\n",
       "      <th></th>\n",
       "      <th>time</th>\n",
       "      <th>radiant_roshankill</th>\n",
       "      <th>radiant_Δroshankill</th>\n",
       "      <th>dire_roshankill</th>\n",
       "      <th>dire_Δroshankill</th>\n",
       "      <th>good_tower1</th>\n",
       "      <th>good_tower2</th>\n",
       "      <th>good_tower3</th>\n",
       "      <th>good_melee</th>\n",
       "      <th>good_range</th>\n",
       "      <th>...</th>\n",
       "      <th>radiant_buyback</th>\n",
       "      <th>dire_buyback</th>\n",
       "      <th>radiant_Δrunes</th>\n",
       "      <th>dire_Δrunes</th>\n",
       "      <th>radiant_runes</th>\n",
       "      <th>dire_runes</th>\n",
       "      <th>radiant_aegis</th>\n",
       "      <th>dire_aegis</th>\n",
       "      <th>radiantΔaegis</th>\n",
       "      <th>direΔaegis</th>\n",
       "    </tr>\n",
       "  </thead>\n",
       "  <tbody>\n",
       "    <tr>\n",
       "      <th>26359</th>\n",
       "      <td>360</td>\n",
       "      <td>0</td>\n",
       "      <td>0</td>\n",
       "      <td>0</td>\n",
       "      <td>0</td>\n",
       "      <td>3</td>\n",
       "      <td>3</td>\n",
       "      <td>3</td>\n",
       "      <td>3</td>\n",
       "      <td>3</td>\n",
       "      <td>...</td>\n",
       "      <td>0</td>\n",
       "      <td>0</td>\n",
       "      <td>2</td>\n",
       "      <td>0</td>\n",
       "      <td>5</td>\n",
       "      <td>3</td>\n",
       "      <td>0</td>\n",
       "      <td>0</td>\n",
       "      <td>0</td>\n",
       "      <td>0</td>\n",
       "    </tr>\n",
       "  </tbody>\n",
       "</table>\n",
       "<p>1 rows × 83 columns</p>\n",
       "</div>"
      ],
      "text/plain": [
       "       time  radiant_roshankill  radiant_Δroshankill  dire_roshankill  \\\n",
       "26359   360                   0                    0                0   \n",
       "\n",
       "       dire_Δroshankill  good_tower1  good_tower2  good_tower3  good_melee  \\\n",
       "26359                 0            3            3            3           3   \n",
       "\n",
       "       good_range  ...  radiant_buyback  dire_buyback  radiant_Δrunes  \\\n",
       "26359           3  ...                0             0               2   \n",
       "\n",
       "       dire_Δrunes  radiant_runes  dire_runes  radiant_aegis  dire_aegis  \\\n",
       "26359            0              5           3              0           0   \n",
       "\n",
       "       radiantΔaegis  direΔaegis  \n",
       "26359              0           0  \n",
       "\n",
       "[1 rows x 83 columns]"
      ]
     },
     "execution_count": 17,
     "metadata": {},
     "output_type": "execute_result"
    }
   ],
   "source": [
    "data = df.sample(1)\n",
    "data"
   ]
  }
 ],
 "metadata": {
  "kaggle": {
   "accelerator": "none",
   "dataSources": [
    {
     "datasetId": 1202763,
     "sourceId": 2011027,
     "sourceType": "datasetVersion"
    }
   ],
   "dockerImageVersionId": 30673,
   "isGpuEnabled": false,
   "isInternetEnabled": true,
   "language": "python",
   "sourceType": "notebook"
  },
  "kernelspec": {
   "display_name": "Python 3",
   "language": "python",
   "name": "python3"
  },
  "language_info": {
   "codemirror_mode": {
    "name": "ipython",
    "version": 3
   },
   "file_extension": ".py",
   "mimetype": "text/x-python",
   "name": "python",
   "nbconvert_exporter": "python",
   "pygments_lexer": "ipython3",
   "version": "3.10.13"
  },
  "papermill": {
   "default_parameters": {},
   "duration": 16.717776,
   "end_time": "2024-03-23T18:21:54.979851",
   "environment_variables": {},
   "exception": null,
   "input_path": "__notebook__.ipynb",
   "output_path": "__notebook__.ipynb",
   "parameters": {},
   "start_time": "2024-03-23T18:21:38.262075",
   "version": "2.5.0"
  }
 },
 "nbformat": 4,
 "nbformat_minor": 5
}
